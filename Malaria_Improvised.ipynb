{
  "nbformat": 4,
  "nbformat_minor": 0,
  "metadata": {
    "colab": {
      "provenance": [],
      "authorship_tag": "ABX9TyML5YomzSS5nKS0zLGWOMev",
      "include_colab_link": true
    },
    "kernelspec": {
      "name": "python3",
      "display_name": "Python 3"
    },
    "language_info": {
      "name": "python"
    }
  },
  "cells": [
    {
      "cell_type": "markdown",
      "metadata": {
        "id": "view-in-github",
        "colab_type": "text"
      },
      "source": [
        "<a href=\"https://colab.research.google.com/github/akankshakusf/Project-Deep-Learning-CNN-Malaria-Detection/blob/master/Malaria_Improvised.ipynb\" target=\"_parent\"><img src=\"https://colab.research.google.com/assets/colab-badge.svg\" alt=\"Open In Colab\"/></a>"
      ]
    },
    {
      "cell_type": "code",
      "execution_count": null,
      "metadata": {
        "id": "cZaHQ1MX-Lkm"
      },
      "outputs": [],
      "source": [
        "#import ML packages\n",
        "import numpy as np\n",
        "import matplotlib.pyplot as plt\n",
        "import seaborn as sns\n",
        "import sklearn\n",
        "from datetime import datetime\n",
        "import cv2  #computer vision\n",
        "from sklearn.metrics import confusion_matrix,roc_curve\n",
        "\n",
        "#import DL tensorflow packages\n",
        "import tensorflow as tf\n",
        "import tensorflow_probability as tfp\n",
        "import tensorflow_datasets as tfds\n",
        "import albumentations as A\n",
        "from tensorflow.keras.models import Model\n",
        "from tensorflow.keras import Sequential\n",
        "from tensorflow.keras.layers import Layer,BatchNormalization, Input,InputLayer,Conv2D, MaxPool2D, Flatten,Dense,Dropout\n",
        "from tensorflow.keras.layers import RandomFlip,RandomRotation,Resizing,Rescaling,Reshape  #for data augmentation\n",
        "from tensorflow.keras.regularizers import L2, L1\n",
        "from tensorflow.keras.callbacks import Callback,CSVLogger,EarlyStopping,LearningRateScheduler\n",
        "from tensorflow.keras.optimizers import Adam\n",
        "from tensorflow.keras.losses import BinaryCrossentropy\n",
        "from tensorflow.keras.metrics import BinaryAccuracy,FalseNegatives,FalsePositives,TruePositives,\\\n",
        "TrueNegatives,Precision,Recall,AUC\n",
        "from tensorboard.plugins.hparams import api as hp\n",
        "\n",
        "#import wandb packages\n",
        "import wandb\n",
        "from wandb.integration.keras import WandbCallback\n"
      ]
    },
    {
      "cell_type": "code",
      "source": [],
      "metadata": {
        "id": "IRctXWBY-TWP"
      },
      "execution_count": null,
      "outputs": []
    }
  ]
}